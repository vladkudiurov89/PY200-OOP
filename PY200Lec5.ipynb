{
 "cells": [
  {
   "cell_type": "markdown",
   "metadata": {},
   "source": [
    "### Функтор"
   ]
  },
  {
   "cell_type": "code",
   "execution_count": 282,
   "metadata": {},
   "outputs": [
    {
     "name": "stdout",
     "output_type": "stream",
     "text": [
      "12\n",
      "28\n"
     ]
    }
   ],
   "source": [
    "class Parabola:\n",
    "    def __init__(self, a, b, c):\n",
    "        self.a = a\n",
    "        self.b = b\n",
    "        self.c = c\n",
    "        \n",
    "    def __call__(self, x):\n",
    "        return self.a*x**2+self.b*x+self.c\n",
    "    \n",
    "parabola = Parabola(1, 2, 4)\n",
    "print(parabola(2))\n",
    "\n",
    "parabola.b = 10\n",
    "print(parabola(2))\n",
    "\n",
    "\n",
    "# def get_parabola(a, b, c):\n",
    "#     def f(x):\n",
    "#         return a*x**2+b*x+c\n",
    "#     return f\n",
    "\n",
    "# parabola = get_parabola(1, 2, 4)\n",
    "# print(parabola(2))"
   ]
  },
  {
   "cell_type": "code",
   "execution_count": 285,
   "metadata": {},
   "outputs": [],
   "source": [
    "with open('E:/py200Lec5/alex2', 'w', encoding='utf-8') as f:\n",
    "    f.write('hello, alex')    "
   ]
  },
  {
   "cell_type": "markdown",
   "metadata": {},
   "source": [
    "### Менеджер контекста"
   ]
  },
  {
   "cell_type": "code",
   "execution_count": 289,
   "metadata": {},
   "outputs": [],
   "source": [
    "class ManyFiles:\n",
    "    def __init__(self, *filenames):\n",
    "        self.__filenames = filenames\n",
    "        self.__files = []\n",
    "        self.__opened = False\n",
    "                \n",
    "    def __enter__(self):\n",
    "        self.open()        \n",
    "        return self\n",
    "        \n",
    "    def __exit__(self, exc_type, exc_value, traceback):\n",
    "        self.close()\n",
    "    \n",
    "    def open(self):\n",
    "        self.__files = []\n",
    "        for filename in self.__filenames:\n",
    "            self.__files.append(open(filename, 'w', encoding='utf-8'))\n",
    "        self.__opened = True        \n",
    "    \n",
    "    def close(self):\n",
    "        for f in self.__files:\n",
    "            f.close()\n",
    "        f = []\n",
    "        self.__opened = False\n",
    "        \n",
    "    def write(self, text):\n",
    "        if not self.__opened:\n",
    "            return\n",
    "        \n",
    "        for i, f in enumerate(self.__files):\n",
    "            f.write(f'{i}: {text}')"
   ]
  },
  {
   "cell_type": "code",
   "execution_count": 292,
   "metadata": {},
   "outputs": [],
   "source": [
    "PATH = 'E:/py200Lec5/'\n",
    "many_files = ManyFiles(*(f'{PATH}alex2.txt', f'{PATH}python3.txt'))\n",
    "many_files.open()\n",
    "many_files.write('OK2')\n",
    "many_files.close()\n",
    "\n",
    "# withManyFiles(*(f'{PATH}alex.txt', f'{PATH}python.txt')) as f:\n",
    "#     f.write('OK')\n",
    "#     print('FINISH')"
   ]
  },
  {
   "cell_type": "markdown",
   "metadata": {},
   "source": [
    "### Перегрузка пользовательских исключений"
   ]
  },
  {
   "cell_type": "code",
   "execution_count": 30,
   "metadata": {},
   "outputs": [],
   "source": [
    "class MyException(Exception):\n",
    "    def __init__(self, message, a):\n",
    "        super().__init__(message) # Вызов конструктора родителя\n",
    "        self.a = a                # Пользовательские данные        "
   ]
  },
  {
   "cell_type": "code",
   "execution_count": 31,
   "metadata": {},
   "outputs": [
    {
     "name": "stdout",
     "output_type": "stream",
     "text": [
      "Стандартное сообщение: a > 5\n",
      "Пользовательские данные: 10\n"
     ]
    }
   ],
   "source": [
    "# Пример использования\n",
    "try:\n",
    "    a = 10\n",
    "    if a > 5:\n",
    "        raise MyException('a > 5', a)\n",
    "except MyException as e:\n",
    "    print(f'Стандартное сообщение: {e}')\n",
    "    print(f'Пользовательские данные: {e.a}')"
   ]
  },
  {
   "cell_type": "markdown",
   "metadata": {},
   "source": [
    "### Обращение по индексу\n",
    "\n",
    "\n",
    "#### __getitem__(self, key) - доступ по индексу (или ключу).\n",
    "#### __setitem__(self, key, value) - назначение элемента по индексу.\n",
    "#### __delitem__(self, key) - удаление элемента по индексу."
   ]
  },
  {
   "cell_type": "code",
   "execution_count": 295,
   "metadata": {},
   "outputs": [],
   "source": [
    "class GetItems:        \n",
    "    def __getitem__(self, key): #  доступ по индексу (или ключу).\n",
    "        print(type(key), key)"
   ]
  },
  {
   "cell_type": "code",
   "execution_count": 296,
   "metadata": {},
   "outputs": [],
   "source": [
    "items = GetItems()"
   ]
  },
  {
   "cell_type": "code",
   "execution_count": 297,
   "metadata": {},
   "outputs": [
    {
     "name": "stdout",
     "output_type": "stream",
     "text": [
      "<class 'int'> 0\n",
      "<class 'int'> 1\n",
      "<class 'int'> 2\n"
     ]
    }
   ],
   "source": [
    "items[0] # Обращение по индексу\n",
    "items[1] # Обращение по индексу\n",
    "items[2] # Обращение по индексу"
   ]
  },
  {
   "cell_type": "code",
   "execution_count": 299,
   "metadata": {
    "scrolled": true
   },
   "outputs": [
    {
     "name": "stdout",
     "output_type": "stream",
     "text": [
      "<class 'slice'> slice(0, 2, None)\n",
      "<class 'slice'> slice(None, 3, None)\n",
      "<class 'slice'> slice(2, None, None)\n",
      "<class 'slice'> slice(0, 20, 5)\n",
      "<class 'slice'> slice(None, 3, 2)\n",
      "<class 'slice'> slice(2, None, 3)\n"
     ]
    }
   ],
   "source": [
    "items[0:2]  # Срез c изветсным началом и концом\n",
    "items[:3]   # Срез с начала контейнера до 3 элемента\n",
    "items[2:]   # Срез с 2 элемента до конца\n",
    "\n",
    "items[0:20:5]  # Срез c изветсным началом и концом с определённым шагом\n",
    "items[:3:2]    # Срез с начала контейнера до 3 элемента с определённым шагом\n",
    "items[2::3]   #  Срез с 2 элемента до конца c определённым шагом"
   ]
  },
  {
   "cell_type": "code",
   "execution_count": 300,
   "metadata": {},
   "outputs": [],
   "source": [
    "class GetItemsPrint:        \n",
    "    def __getitem__(self, key):\n",
    "        if isinstance(key, slice):\n",
    "            print('start', key.start)\n",
    "            print('stop',  key.stop)\n",
    "            print('step',  key.step)\n",
    "            return\n",
    "        print(key)"
   ]
  },
  {
   "cell_type": "code",
   "execution_count": 303,
   "metadata": {},
   "outputs": [
    {
     "name": "stdout",
     "output_type": "stream",
     "text": [
      "5\n",
      "start 0\n",
      "stop 2\n",
      "step None\n",
      "start None\n",
      "stop 3\n",
      "step None\n",
      "start 2\n",
      "stop None\n",
      "step None\n",
      "start 0\n",
      "stop 20\n",
      "step 5\n",
      "start None\n",
      "stop 3\n",
      "step 2\n",
      "start 2\n",
      "stop None\n",
      "step 3\n"
     ]
    }
   ],
   "source": [
    "items = GetItemsPrint()\n",
    "\n",
    "items[5]    # Срез c изветсным началом и концом\n",
    "items[0:2]  # Срез c изветсным началом и концом\n",
    "items[:3]   # Срез с начала контейнера до 3 элемента\n",
    "items[2:]   # Срез с 2 элемента до конца\n",
    "\n",
    "items[0:20:5]  # Срез c изветсным началом и концом с определённым шагом\n",
    "items[:3:2]    # Срез с начала контейнера до 3 элемента с определённым шагом\n",
    "items[2::3]   #  Срез с 2 элемента до конца c определённым шагом"
   ]
  },
  {
   "cell_type": "code",
   "execution_count": 313,
   "metadata": {},
   "outputs": [
    {
     "data": {
      "text/plain": [
       "50"
      ]
     },
     "execution_count": 313,
     "metadata": {},
     "output_type": "execute_result"
    }
   ],
   "source": [
    "class C:\n",
    "    def __init__(self):\n",
    "        self.a = 10\n",
    "        self.b = 20\n",
    "        self.c = 30\n",
    "        self.d = 40\n",
    "        self.e = 50\n",
    "        self.f = 60\n",
    "        \n",
    "    def __getitem__(self, key):\n",
    "        if isinstance(key, int):\n",
    "            if 0 == key or -6 == key:\n",
    "                return self.a\n",
    "            if 1 == key or -5 == key:\n",
    "                return self.b\n",
    "            if 2 == key or -4 == key:\n",
    "                return self.c\n",
    "            if 3 == key or -3 == key:\n",
    "                return self.d\n",
    "            if 4 == key or -2 == key:\n",
    "                return self.e\n",
    "            if 5 == key or -1 == key:\n",
    "                return self.f\n",
    "            raise IndexError('Index must be between 0 - 5')\n",
    "        \n",
    "c = C()\n",
    "c[-2]"
   ]
  },
  {
   "cell_type": "code",
   "execution_count": 366,
   "metadata": {},
   "outputs": [],
   "source": [
    "class String:\n",
    "    def __init__(self, s):\n",
    "        if isinstance(s, String):\n",
    "            s = s.__l\n",
    "        self.__l = list(s)\n",
    "        \n",
    "    def __str__(self):\n",
    "        return \"\".join(self.__l)\n",
    "    \n",
    "    def __repr__(self):\n",
    "        return f'String(\"{str(self)}\")'\n",
    "    \n",
    "    def __add__(self, other):\n",
    "        return String(String(self).__l + String(other).__l)\n",
    "    \n",
    "    def __iadd__(self, other):\n",
    "        self.__l += String(other).__l\n",
    "        return self"
   ]
  },
  {
   "cell_type": "code",
   "execution_count": 367,
   "metadata": {},
   "outputs": [],
   "source": [
    "s1 = String('python')"
   ]
  },
  {
   "cell_type": "code",
   "execution_count": 368,
   "metadata": {},
   "outputs": [],
   "source": [
    "s2 = String('3')"
   ]
  },
  {
   "cell_type": "code",
   "execution_count": 369,
   "metadata": {},
   "outputs": [
    {
     "data": {
      "text/plain": [
       "True"
      ]
     },
     "execution_count": 369,
     "metadata": {},
     "output_type": "execute_result"
    }
   ],
   "source": [
    "s3 = s1 + s2\n",
    "\n",
    "isinstance(s3, String)"
   ]
  },
  {
   "cell_type": "code",
   "execution_count": 374,
   "metadata": {},
   "outputs": [
    {
     "data": {
      "text/plain": [
       "String(\"python alex 12\")"
      ]
     },
     "execution_count": 374,
     "metadata": {},
     "output_type": "execute_result"
    }
   ],
   "source": [
    "s1 = String('python')\n",
    "s1 += ' alex'\n",
    "s1\n",
    "s1 += [' ', '1', '2']\n",
    "s1"
   ]
  },
  {
   "cell_type": "code",
   "execution_count": 108,
   "metadata": {},
   "outputs": [],
   "source": [
    "class SetItems:\n",
    "    def __setitem__(self, key, value): # назначение элемента по индексу.\n",
    "        print(type(key), key, value)"
   ]
  },
  {
   "cell_type": "code",
   "execution_count": 110,
   "metadata": {},
   "outputs": [
    {
     "name": "stdout",
     "output_type": "stream",
     "text": [
      "<class 'slice'> slice(3, 2, None) [1, 2, 4]\n"
     ]
    }
   ],
   "source": [
    "items = SetItems()\n",
    "items[3:2] = [1, 2, 4]"
   ]
  },
  {
   "cell_type": "markdown",
   "metadata": {},
   "source": [
    "### Получение длины объекта"
   ]
  },
  {
   "cell_type": "code",
   "execution_count": 379,
   "metadata": {},
   "outputs": [],
   "source": [
    "class ExLen:\n",
    "    def __len__(self):\n",
    "        return 50"
   ]
  },
  {
   "cell_type": "code",
   "execution_count": 380,
   "metadata": {},
   "outputs": [
    {
     "name": "stdout",
     "output_type": "stream",
     "text": [
      "50\n"
     ]
    }
   ],
   "source": [
    "print(len(ExLen()))"
   ]
  },
  {
   "cell_type": "markdown",
   "metadata": {},
   "source": [
    "### Проверка на принадлежность элемента контейнеру"
   ]
  },
  {
   "cell_type": "code",
   "execution_count": 381,
   "metadata": {},
   "outputs": [],
   "source": [
    "class MyContainer:\n",
    "    def __contains__(self, item):\n",
    "        if item == 'alex':\n",
    "            return True\n",
    "        if item == 'python':\n",
    "            return True\n",
    "        return False"
   ]
  },
  {
   "cell_type": "code",
   "execution_count": 382,
   "metadata": {},
   "outputs": [
    {
     "name": "stdout",
     "output_type": "stream",
     "text": [
      "OK\n",
      "OK\n"
     ]
    }
   ],
   "source": [
    "c = MyContainer()\n",
    "\n",
    "if 'alex' in c:\n",
    "    print('OK')\n",
    "    \n",
    "if 'python' in c:\n",
    "    print('OK')\n",
    "    \n",
    "if 'hello' in c:\n",
    "    print('OK')"
   ]
  },
  {
   "cell_type": "code",
   "execution_count": 182,
   "metadata": {},
   "outputs": [
    {
     "name": "stdout",
     "output_type": "stream",
     "text": [
      "Color(1, 2, 3) Color(3, 4, 5)\n"
     ]
    },
    {
     "data": {
      "text/plain": [
       "Color(4, 6, 8)"
      ]
     },
     "execution_count": 182,
     "metadata": {},
     "output_type": "execute_result"
    }
   ],
   "source": [
    "### \n",
    "\n",
    "# RGBA\n",
    "class Color:\n",
    "    def __init__(self, red=0, green=0, blue=0, a=0):\n",
    "        if red > 255:\n",
    "            red = 255\n",
    "        if red < 0 :\n",
    "            red = 0\n",
    "        if green > 255:\n",
    "            green = 255\n",
    "        if green < 0 :\n",
    "            green = 0\n",
    "        if blue > 255:\n",
    "            blue = 255\n",
    "        if blue < 0 :\n",
    "            blue = 0\n",
    "        self.red = red\n",
    "        self.green = green\n",
    "        self.blue = blue\n",
    "        \n",
    "    @staticmethod    \n",
    "    def is_valid(red, green, blue, a):\n",
    "        pass\n",
    "    \n",
    "    \n",
    "    def __add__(self, other):\n",
    "        print(self, other)\n",
    "        return Color(self.red+other.red,\n",
    "                     self.green+other.green,\n",
    "                     self.blue+other.blue)\n",
    "\n",
    "    def __sub__(self, other):\n",
    "        print(self, other)\n",
    "        return Color(self.red-other.red,\n",
    "                     self.green-other.green,\n",
    "                     self.blue-other.blue)\n",
    "    \n",
    "    def __int__(self):\n",
    "        return self.red << 16 | self.green << 8 | self.blue\n",
    "    \n",
    "    def __and__(self, other):\n",
    "        return Color(self.red   & other.red,\n",
    "                     self.green & other.green,\n",
    "                     self.blue  & other.blue)\n",
    "    \n",
    "    def __or__(self, other):\n",
    "        return Color(self.red   | other.red,\n",
    "                     self.green | other.green,\n",
    "                     self.blue  | other.blue)\n",
    "    \n",
    "    def __repr__(self):\n",
    "        return f'Color({self.red!r}, {self.green!r}, {self.blue!r})'\n",
    "        \n",
    "color1 = Color(1, 2, 3)\n",
    "color2 = Color(3, 4, 5)\n",
    "\n",
    "color3 = color1 + color2 # color1.__add__(color2) -> Color\n",
    "\n",
    "color3"
   ]
  },
  {
   "cell_type": "code",
   "execution_count": 142,
   "metadata": {},
   "outputs": [
    {
     "name": "stdout",
     "output_type": "stream",
     "text": [
      "Color(1, 2, 3) Color(3, 4, 5)\n"
     ]
    },
    {
     "data": {
      "text/plain": [
       "Color(4, 6, 8)"
      ]
     },
     "execution_count": 142,
     "metadata": {},
     "output_type": "execute_result"
    }
   ],
   "source": [
    "color1.__add__(color2)"
   ]
  },
  {
   "cell_type": "code",
   "execution_count": 183,
   "metadata": {},
   "outputs": [
    {
     "name": "stdout",
     "output_type": "stream",
     "text": [
      "Color(1, 2, 3) Color(3, 4, 5)\n",
      "Color(4, 6, 8) Color(10, 0, 0)\n"
     ]
    }
   ],
   "source": [
    "color4 = ((Color(1, 2, 3) + Color(3, 4, 5)) - Color(10))"
   ]
  },
  {
   "cell_type": "code",
   "execution_count": 187,
   "metadata": {},
   "outputs": [
    {
     "data": {
      "text/plain": [
       "'0xff0000'"
      ]
     },
     "execution_count": 187,
     "metadata": {},
     "output_type": "execute_result"
    }
   ],
   "source": [
    "hex(int(Color(255)))"
   ]
  },
  {
   "cell_type": "code",
   "execution_count": 192,
   "metadata": {},
   "outputs": [
    {
     "data": {
      "text/plain": [
       "'0xff00'"
      ]
     },
     "execution_count": 192,
     "metadata": {},
     "output_type": "execute_result"
    }
   ],
   "source": [
    "hex(int(Color(0, 255)))"
   ]
  },
  {
   "cell_type": "code",
   "execution_count": 193,
   "metadata": {},
   "outputs": [
    {
     "data": {
      "text/plain": [
       "'0xff'"
      ]
     },
     "execution_count": 193,
     "metadata": {},
     "output_type": "execute_result"
    }
   ],
   "source": [
    "hex(int(Color(0, 0, 255)))"
   ]
  },
  {
   "cell_type": "code",
   "execution_count": 149,
   "metadata": {},
   "outputs": [
    {
     "name": "stdout",
     "output_type": "stream",
     "text": [
      "0b10101111\n",
      "0xaf\n",
      "0b1010111100000000\n",
      "0b101011110000000000000000\n"
     ]
    }
   ],
   "source": [
    "a = 0xAF\n",
    "\n",
    "print(bin(a))\n",
    "print(hex(a))\n",
    "print(bin(a << 8))\n",
    "print(bin(a << 16))"
   ]
  },
  {
   "cell_type": "code",
   "execution_count": 151,
   "metadata": {},
   "outputs": [],
   "source": [
    "a = 15\n",
    "b = 25\n",
    "c = 105"
   ]
  },
  {
   "cell_type": "code",
   "execution_count": 152,
   "metadata": {},
   "outputs": [],
   "source": [
    "d = a << 16 | b << 8 | c"
   ]
  },
  {
   "cell_type": "code",
   "execution_count": 154,
   "metadata": {},
   "outputs": [
    {
     "data": {
      "text/plain": [
       "'0xf1969'"
      ]
     },
     "execution_count": 154,
     "metadata": {},
     "output_type": "execute_result"
    }
   ],
   "source": [
    "hex(d)"
   ]
  },
  {
   "cell_type": "code",
   "execution_count": 160,
   "metadata": {},
   "outputs": [
    {
     "data": {
      "text/plain": [
       "'0xf1969'"
      ]
     },
     "execution_count": 160,
     "metadata": {},
     "output_type": "execute_result"
    }
   ],
   "source": [
    "hex(a) + hex(b).split('x')[1] + hex(c).split('x')[1]"
   ]
  },
  {
   "cell_type": "code",
   "execution_count": 161,
   "metadata": {},
   "outputs": [
    {
     "data": {
      "text/plain": [
       "15"
      ]
     },
     "execution_count": 161,
     "metadata": {},
     "output_type": "execute_result"
    }
   ],
   "source": [
    "(d >> 16) & 0xFF"
   ]
  },
  {
   "cell_type": "code",
   "execution_count": 162,
   "metadata": {},
   "outputs": [
    {
     "data": {
      "text/plain": [
       "25"
      ]
     },
     "execution_count": 162,
     "metadata": {},
     "output_type": "execute_result"
    }
   ],
   "source": [
    "(d >> 8) & 0xFF"
   ]
  },
  {
   "cell_type": "code",
   "execution_count": 163,
   "metadata": {},
   "outputs": [
    {
     "data": {
      "text/plain": [
       "105"
      ]
     },
     "execution_count": 163,
     "metadata": {},
     "output_type": "execute_result"
    }
   ],
   "source": [
    "c & 0xFF"
   ]
  },
  {
   "cell_type": "code",
   "execution_count": 164,
   "metadata": {},
   "outputs": [],
   "source": [
    "a = 0\n",
    "a |= 1 << 12"
   ]
  },
  {
   "cell_type": "code",
   "execution_count": 166,
   "metadata": {},
   "outputs": [
    {
     "data": {
      "text/plain": [
       "'0b1000000000000'"
      ]
     },
     "execution_count": 166,
     "metadata": {},
     "output_type": "execute_result"
    }
   ],
   "source": [
    "bin(a)"
   ]
  },
  {
   "cell_type": "code",
   "execution_count": 175,
   "metadata": {},
   "outputs": [
    {
     "name": "stdout",
     "output_type": "stream",
     "text": [
      "0b10\n",
      "0b100\n",
      "0b1000\n",
      "0b10000\n",
      "0b100000\n",
      "0b1000000\n",
      "0b10000000\n"
     ]
    }
   ],
   "source": [
    "a = 1\n",
    "for i in range(1, 8):\n",
    "    a ^= 1 << (i-1)\n",
    "    a ^= 1 << i\n",
    "    print(bin(a))"
   ]
  },
  {
   "cell_type": "code",
   "execution_count": 180,
   "metadata": {},
   "outputs": [
    {
     "name": "stdout",
     "output_type": "stream",
     "text": [
      "0b100100001\n",
      "0b100000001\n"
     ]
    }
   ],
   "source": [
    "a = 0\n",
    "a |= 1 << 8\n",
    "a |= 1 << 5\n",
    "a |= 1 << 0\n",
    "print(bin(a))\n",
    "a &= ~(1 << 5)\n",
    "print(bin(a))"
   ]
  },
  {
   "cell_type": "code",
   "execution_count": 215,
   "metadata": {},
   "outputs": [],
   "source": [
    "class Glass:\n",
    "    def __init__(self, occupied_volume, capacity_volume):\n",
    "        self.occupied_volume = occupied_volume\n",
    "        self.capacity_volume = capacity_volume\n",
    "    \n",
    "    def __lt__(self, other): # <\n",
    "        return self.occupied_volume < other.occupied_volume\n",
    "    \n",
    "    def __gt__(self, other): # >\n",
    "        return self.occupied_volume > other.occupied_volume\n",
    "    \n",
    "    def __le__(self, other): # <=\n",
    "        return not self.__gt__(other)\n",
    "    \n",
    "    def __ge__(self, other): # >=\n",
    "        return not self.__lt__(other)\n",
    "    \n",
    "    def __eq__(self, other): # ==\n",
    "        return self.occupied_volume == other.occupied_volume\n",
    "    \n",
    "    def __ne__(self, other): # !=\n",
    "        return not self.__eq__(other)"
   ]
  },
  {
   "cell_type": "code",
   "execution_count": 219,
   "metadata": {},
   "outputs": [
    {
     "data": {
      "text/plain": [
       "True"
      ]
     },
     "execution_count": 219,
     "metadata": {},
     "output_type": "execute_result"
    }
   ],
   "source": [
    "Glass(30, 15) == Glass(30, 50)"
   ]
  },
  {
   "cell_type": "code",
   "execution_count": 280,
   "metadata": {},
   "outputs": [],
   "source": [
    "import math\n",
    "\n",
    "class Point:\n",
    "    def __init__(self, x: int, y: int):\n",
    "        self.__x = x\n",
    "        self.__y = y\n",
    "        \n",
    "    def x(self):\n",
    "        return self.__x\n",
    "    \n",
    "    def y(self):\n",
    "        return self.__y \n",
    "    \n",
    "    def __add__(self, other):        \n",
    "        return Point(self.__x + other.__x, self.__y + other.__y)\n",
    "    \n",
    "    def __sub__(self, other):\n",
    "        return Point(self.__x - other.__x, self.__y - other.__y)\n",
    "    \n",
    "    def __mul__(self, value):\n",
    "        return Point(self.__x*value, self.__y*value)\n",
    "    \n",
    "    def __rmul__(self, value):\n",
    "        return self * value\n",
    "    \n",
    "    @staticmethod\n",
    "    def distance(p1, p2=None):\n",
    "        if p2 is None:\n",
    "            p2 = Point(0, 0)\n",
    "        return math.sqrt((p1.x()-p2.x())**2+(p1.y()-p2.y())**2)\n",
    "    \n",
    "    @staticmethod\n",
    "    def center(p1, p2):\n",
    "        return Point((p1.x()+p2.x())/2, (p1.y()+p2.y())/2)\n",
    "    \n",
    "    def __repr__(self):\n",
    "        return f'Point({self.__x!r}, {self.__y!r})'\n",
    "    \n",
    "    def __eq__(self, other): # == \n",
    "        return self.__x == other.__x and self.__y == other.__y\n",
    "    \n",
    "    def __ne__(self: Point, other: Point) -> bool: # !=\n",
    "        return not self == other\n",
    "    \n",
    "    @staticmethod\n",
    "    def dot(p1: Point, p2: Point) -> float:\n",
    "        return p1.__x*p2.__x + p1.__y*p2.__y"
   ]
  },
  {
   "cell_type": "code",
   "execution_count": 268,
   "metadata": {},
   "outputs": [],
   "source": [
    "p1 = Point(2, 0)\n",
    "\n",
    "p2 = Point(4, 10)"
   ]
  },
  {
   "cell_type": "code",
   "execution_count": 269,
   "metadata": {},
   "outputs": [
    {
     "data": {
      "text/plain": [
       "Point(3.0, 5.0)"
      ]
     },
     "execution_count": 269,
     "metadata": {},
     "output_type": "execute_result"
    }
   ],
   "source": [
    "Point.center(p1, p2)"
   ]
  },
  {
   "cell_type": "code",
   "execution_count": 258,
   "metadata": {},
   "outputs": [
    {
     "data": {
      "text/plain": [
       "Point(4, 0)"
      ]
     },
     "execution_count": 258,
     "metadata": {},
     "output_type": "execute_result"
    }
   ],
   "source": [
    "p1 + p2 - Point(2, 10)"
   ]
  },
  {
   "cell_type": "code",
   "execution_count": 273,
   "metadata": {},
   "outputs": [
    {
     "data": {
      "text/plain": [
       "Point(10, 0)"
      ]
     },
     "execution_count": 273,
     "metadata": {},
     "output_type": "execute_result"
    }
   ],
   "source": [
    "p1*5"
   ]
  },
  {
   "cell_type": "code",
   "execution_count": 279,
   "metadata": {
    "scrolled": true
   },
   "outputs": [
    {
     "data": {
      "text/plain": [
       "True"
      ]
     },
     "execution_count": 279,
     "metadata": {},
     "output_type": "execute_result"
    }
   ],
   "source": [
    "Point(10, 5) != Point(5, 5)"
   ]
  },
  {
   "cell_type": "code",
   "execution_count": 281,
   "metadata": {},
   "outputs": [
    {
     "ename": "TypeError",
     "evalue": "'<' not supported between instances of 'Point' and 'Point'",
     "output_type": "error",
     "traceback": [
      "\u001b[1;31m---------------------------------------------------------------------------\u001b[0m",
      "\u001b[1;31mTypeError\u001b[0m                                 Traceback (most recent call last)",
      "\u001b[1;32m<ipython-input-281-fdd99631c43e>\u001b[0m in \u001b[0;36m<module>\u001b[1;34m\u001b[0m\n\u001b[1;32m----> 1\u001b[1;33m \u001b[0mPoint\u001b[0m\u001b[1;33m(\u001b[0m\u001b[1;36m10\u001b[0m\u001b[1;33m,\u001b[0m \u001b[1;36m5\u001b[0m\u001b[1;33m)\u001b[0m \u001b[1;33m<\u001b[0m \u001b[0mPoint\u001b[0m\u001b[1;33m(\u001b[0m\u001b[1;36m5\u001b[0m\u001b[1;33m,\u001b[0m \u001b[1;36m5\u001b[0m\u001b[1;33m)\u001b[0m\u001b[1;33m\u001b[0m\u001b[1;33m\u001b[0m\u001b[0m\n\u001b[0m",
      "\u001b[1;31mTypeError\u001b[0m: '<' not supported between instances of 'Point' and 'Point'"
     ]
    }
   ],
   "source": [
    "Point(10, 5) < Point(5, 5)"
   ]
  },
  {
   "cell_type": "code",
   "execution_count": null,
   "metadata": {},
   "outputs": [],
   "source": []
  },
  {
   "cell_type": "code",
   "execution_count": null,
   "metadata": {},
   "outputs": [],
   "source": []
  },
  {
   "cell_type": "code",
   "execution_count": 389,
   "metadata": {},
   "outputs": [],
   "source": [
    "class Train:\n",
    "    def __init__(self):\n",
    "        self.l = [5, 2, 3, 4]\n",
    "        \n",
    "    def __iter__(self):\n",
    "        return iter(self.l)"
   ]
  },
  {
   "cell_type": "code",
   "execution_count": 390,
   "metadata": {},
   "outputs": [],
   "source": [
    "train = Train()"
   ]
  },
  {
   "cell_type": "code",
   "execution_count": 391,
   "metadata": {},
   "outputs": [
    {
     "name": "stdout",
     "output_type": "stream",
     "text": [
      "5\n",
      "2\n",
      "3\n",
      "4\n"
     ]
    }
   ],
   "source": [
    "for i in train:\n",
    "    print(i)"
   ]
  },
  {
   "cell_type": "code",
   "execution_count": 1,
   "metadata": {},
   "outputs": [],
   "source": [
    "class Train:\n",
    "    def __init__(self):\n",
    "        self.a = 10\n",
    "        self.b = 20\n",
    "        self.c = 30\n",
    "        self.d = 40\n",
    "        self.e = 50\n",
    "        self.f = 60\n",
    "        self.__index = 0\n",
    "        \n",
    "    def __iter__(self):\n",
    "        self.__index = 0\n",
    "        return self\n",
    "\n",
    "    def __next__(self):\n",
    "        self.__index += 1\n",
    "        if 1 == self.__index:\n",
    "            return self.a\n",
    "        if 2 == self.__index:\n",
    "            return self.b\n",
    "        raise StopIteration('')"
   ]
  },
  {
   "cell_type": "code",
   "execution_count": 2,
   "metadata": {},
   "outputs": [
    {
     "name": "stdout",
     "output_type": "stream",
     "text": [
      "10\n",
      "20\n"
     ]
    }
   ],
   "source": [
    "for i in Train():\n",
    "    print(i)"
   ]
  },
  {
   "cell_type": "code",
   "execution_count": null,
   "metadata": {},
   "outputs": [],
   "source": []
  }
 ],
 "metadata": {
  "kernelspec": {
   "display_name": "Python 3",
   "language": "python",
   "name": "python3"
  },
  "language_info": {
   "codemirror_mode": {
    "name": "ipython",
    "version": 3
   },
   "file_extension": ".py",
   "mimetype": "text/x-python",
   "name": "python",
   "nbconvert_exporter": "python",
   "pygments_lexer": "ipython3",
   "version": "3.6.7"
  }
 },
 "nbformat": 4,
 "nbformat_minor": 2
}
