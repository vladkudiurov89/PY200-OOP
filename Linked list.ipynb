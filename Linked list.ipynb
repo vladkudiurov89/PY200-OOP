{
 "cells": [
  {
   "cell_type": "code",
   "execution_count": 1,
   "metadata": {},
   "outputs": [],
   "source": [
    "class Node:\n",
    "    def __init__(self, prev_=None, next_=None):\n",
    "        self.__prev = prev_\n",
    "        self.__next = next_\n",
    "        \n",
    "    def set_next(self, node):\n",
    "        self.__next = node\n",
    "        \n",
    "    def get_next(self):\n",
    "        return self.__next\n",
    "        \n",
    "    def set_prev(self, node):\n",
    "        self.__prev = node # weakref\n",
    "        \n",
    "    @property\n",
    "    def prev(self):\n",
    "        return self.__prev()\n",
    "    \n",
    "    @prev.setter\n",
    "    def prev(self, node):\n",
    "        self.__prev = weakref.ref(node)"
   ]
  },
  {
   "cell_type": "code",
   "execution_count": null,
   "metadata": {},
   "outputs": [],
   "source": [
    "node = Node()\n",
    "\n",
    "node.prev\n",
    "\n",
    "node.prev = Node()"
   ]
  },
  {
   "cell_type": "code",
   "execution_count": 2,
   "metadata": {},
   "outputs": [
    {
     "ename": "IndentationError",
     "evalue": "expected an indented block (<ipython-input-2-65777c19a49b>, line 5)",
     "output_type": "error",
     "traceback": [
      "\u001b[1;36m  File \u001b[1;32m\"<ipython-input-2-65777c19a49b>\"\u001b[1;36m, line \u001b[1;32m5\u001b[0m\n\u001b[1;33m    def __init__(self):\u001b[0m\n\u001b[1;37m      ^\u001b[0m\n\u001b[1;31mIndentationError\u001b[0m\u001b[1;31m:\u001b[0m expected an indented block\n"
     ]
    }
   ],
   "source": [
    "class LL:\n",
    "    class __Node:\n",
    "        \n",
    "    \n",
    "    def __init__(self):\n",
    "        self.__head = Node()\n",
    "        self.__tail = Node(self.__head)\n",
    "        self.__head.set_next(self.__tail)\n",
    "        \n",
    "    def push(self, element):\n",
    "        node = self.__Node(element)\n",
    "        node.set_next(self.__head.get_next()) # 1\n",
    "        self.__head.set_next(node)            # 2\n",
    "        node.get_next().set_prev(node)        # 3\n",
    "        node.set_prev(self.__head)            # 4\n",
    "        \n",
    "    def clear(self):\n",
    "        self.__head.set_next(self.__tail)\n",
    "        self.__tail.set_prev(self.__head)\n",
    "        "
   ]
  }
 ],
 "metadata": {
  "kernelspec": {
   "display_name": "Python 3",
   "language": "python",
   "name": "python3"
  },
  "language_info": {
   "codemirror_mode": {
    "name": "ipython",
    "version": 3
   },
   "file_extension": ".py",
   "mimetype": "text/x-python",
   "name": "python",
   "nbconvert_exporter": "python",
   "pygments_lexer": "ipython3",
   "version": "3.6.7"
  }
 },
 "nbformat": 4,
 "nbformat_minor": 2
}
