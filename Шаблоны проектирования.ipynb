{
 "cells": [
  {
   "cell_type": "code",
   "execution_count": 34,
   "metadata": {},
   "outputs": [],
   "source": [
    "# Паттерн \"Стратегия\"\n",
    "from abc import ABCMeta, abstractmethod\n",
    "class IReader(metaclass=ABCMeta):\n",
    "    @abstractmethod\n",
    "    def read(self, address, size):\n",
    "        pass\n",
    "    \n",
    "class SDCard(IReader):    \n",
    "    def read(self, address, size):\n",
    "        print('SDCard')\n",
    "        \n",
    "class FlashChip(IReader):    \n",
    "    def read(self, address, size):\n",
    "        print('FlashChip')    "
   ]
  },
  {
   "cell_type": "code",
   "execution_count": 18,
   "metadata": {},
   "outputs": [],
   "source": [
    "class ReaderClient:\n",
    "    \n",
    "    def __init__(self):\n",
    "        self.__readers = {}\n",
    "        self.__alg = None\n",
    "    def add_reader(self, name, reader):\n",
    "        if not isinstance(reader, IReader):\n",
    "            return False\n",
    "        self.__readers[name] = reader  \n",
    "        \n",
    "    def read(self, address, size):\n",
    "        if self.__alg is None:\n",
    "            return False\n",
    "        return self.__alg.read(address, size)\n",
    "    \n",
    "    def set_reader(self, name):\n",
    "        if name in self.__readers:\n",
    "            self.__alg = self.__readers[name]\n",
    "            return True\n",
    "        return False"
   ]
  },
  {
   "cell_type": "code",
   "execution_count": 19,
   "metadata": {},
   "outputs": [],
   "source": [
    "reader_client = ReaderClient()\n",
    "\n",
    "reader_client.add_reader('sd', SDCard())\n",
    "reader_client.add_reader('flash', FlashChip())"
   ]
  },
  {
   "cell_type": "code",
   "execution_count": 38,
   "metadata": {},
   "outputs": [
    {
     "name": "stdout",
     "output_type": "stream",
     "text": [
      "Enter alg> flash\n"
     ]
    },
    {
     "data": {
      "text/plain": [
       "True"
      ]
     },
     "execution_count": 38,
     "metadata": {},
     "output_type": "execute_result"
    }
   ],
   "source": [
    "s = input(\"Enter alg> \")\n",
    "reader_client.set_reader(s)"
   ]
  },
  {
   "cell_type": "code",
   "execution_count": 39,
   "metadata": {},
   "outputs": [
    {
     "name": "stdout",
     "output_type": "stream",
     "text": [
      "FlashChip\n"
     ]
    }
   ],
   "source": [
    "reader_client.rea(21, 33)"
   ]
  },
  {
   "cell_type": "code",
   "execution_count": 40,
   "metadata": {},
   "outputs": [],
   "source": [
    "# Наблюдатель\n",
    "class Subject:\n",
    "    \n",
    "    def __init__(self):\n",
    "        self.__observers = []\n",
    "    \n",
    "    def attach(self, o):\n",
    "        self.__observers.append(o)\n",
    "        \n",
    "    def notify(self):\n",
    "        for o in self.__observers:\n",
    "            o.update()\n",
    "            \n",
    "class Observer:\n",
    "    \n",
    "    def __init__(self, name):\n",
    "        self.name = name\n",
    "    \n",
    "    def update(self):\n",
    "        print(f'Observer: {self.name}')"
   ]
  },
  {
   "cell_type": "code",
   "execution_count": 43,
   "metadata": {},
   "outputs": [],
   "source": [
    "s = Subject()"
   ]
  },
  {
   "cell_type": "code",
   "execution_count": 41,
   "metadata": {},
   "outputs": [],
   "source": [
    "a = Observer('A')\n",
    "b = Observer('B')\n",
    "c = Observer('C')\n",
    "d = Observer('D')"
   ]
  },
  {
   "cell_type": "code",
   "execution_count": 44,
   "metadata": {},
   "outputs": [],
   "source": [
    "s.attach(a)\n",
    "s.attach(b)\n",
    "s.attach(c)\n",
    "s.attach(d)"
   ]
  },
  {
   "cell_type": "code",
   "execution_count": 45,
   "metadata": {},
   "outputs": [
    {
     "name": "stdout",
     "output_type": "stream",
     "text": [
      "Observer: A\n",
      "Observer: B\n",
      "Observer: C\n",
      "Observer: D\n"
     ]
    }
   ],
   "source": [
    "s.notify()"
   ]
  },
  {
   "cell_type": "code",
   "execution_count": null,
   "metadata": {},
   "outputs": [],
   "source": []
  }
 ],
 "metadata": {
  "kernelspec": {
   "display_name": "Python 3",
   "language": "python",
   "name": "python3"
  },
  "language_info": {
   "codemirror_mode": {
    "name": "ipython",
    "version": 3
   },
   "file_extension": ".py",
   "mimetype": "text/x-python",
   "name": "python",
   "nbconvert_exporter": "python",
   "pygments_lexer": "ipython3",
   "version": "3.6.7"
  }
 },
 "nbformat": 4,
 "nbformat_minor": 2
}
