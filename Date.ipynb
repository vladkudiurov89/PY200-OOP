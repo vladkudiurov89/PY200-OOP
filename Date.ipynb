{
 "cells": [
  {
   "cell_type": "code",
   "execution_count": null,
   "metadata": {},
   "outputs": [],
   "source": [
    "# Разработка класса данных\n",
    "# Примеры:\n",
    "# date = Date(2018, 11, 23)\n",
    "# print(date) # 23.11.2018\n",
    "# repr(date)  # Date(2018, 11, 23)\n",
    "\n",
    "# date = Date(2018, 11, 31)\n",
    "\n",
    "# date.date = '31.11.2018'\n",
    "# print(date.date) # '31.11.2018'\n",
    "\n",
    "# date.day   = 31 # Запрет\n",
    "# date.month = 50 # \n",
    "# date.month = 11 # 02 -> 01.03\n",
    "# date.year       # на след. месяц"
   ]
  },
  {
   "cell_type": "code",
   "execution_count": 1,
   "metadata": {},
   "outputs": [],
   "source": [
    "# 1\n",
    "class Date:\n",
    "   \n",
    "    def __init__(self, year, month, day):        \n",
    "        self.year  = year\n",
    "        self.month = month\n",
    "        self.day   = day"
   ]
  },
  {
   "cell_type": "code",
   "execution_count": 5,
   "metadata": {
    "scrolled": true
   },
   "outputs": [
    {
     "name": "stdout",
     "output_type": "stream",
     "text": [
      "date:\n",
      "2019\n",
      "5\n",
      "22\n",
      "date2:\n",
      "2018\n",
      "4\n",
      "21\n",
      "date 15\n",
      "date2 21\n"
     ]
    }
   ],
   "source": [
    "date = Date(2019, 5, 22)\n",
    "\n",
    "print('date:')\n",
    "print(date.year)\n",
    "print(date.month)\n",
    "print(date.day)\n",
    "\n",
    "date2 = Date(2018, 4, 21)\n",
    "print('date2:')\n",
    "print(date2.year)\n",
    "print(date2.month)\n",
    "print(date2.day)\n",
    "\n",
    "date.day = 15\n",
    "print('date', date.day)\n",
    "print('date2', date2.day)"
   ]
  },
  {
   "cell_type": "code",
   "execution_count": 6,
   "metadata": {},
   "outputs": [],
   "source": [
    "# 2\n",
    "class Date:\n",
    "   \n",
    "    def __init__(self, year, month, day):        \n",
    "        self.year  = year\n",
    "        self.month = month\n",
    "        self.day   = day\n",
    "        \n",
    "    def __str__(self):\n",
    "        return f'{self.day}.{self.month}.{self.year}'"
   ]
  },
  {
   "cell_type": "code",
   "execution_count": 7,
   "metadata": {},
   "outputs": [
    {
     "name": "stdout",
     "output_type": "stream",
     "text": [
      "date\n",
      "22.5.2019\n",
      "date2\n",
      "21.4.2018\n"
     ]
    }
   ],
   "source": [
    "date = Date(2019, 5, 22)\n",
    "date2 = Date(2018, 4, 21)\n",
    "\n",
    "print('date')\n",
    "print(date)\n",
    "\n",
    "print('date2')\n",
    "print(date2)"
   ]
  },
  {
   "cell_type": "code",
   "execution_count": 32,
   "metadata": {},
   "outputs": [],
   "source": [
    "# 3\n",
    "class Date:\n",
    "   \n",
    "    def __init__(self, year, month, day):        \n",
    "        self.year  = year\n",
    "        self.month = month\n",
    "        self.day   = day\n",
    "        \n",
    "    def __str__(self):\n",
    "        return f'{self.day}.{self.month}.{self.year}'\n",
    "    \n",
    "    def __repr__(self):\n",
    "        return f'Date({self.year}, {self.month!r}, {self.day!r})'\n",
    "      # return f'Date({repr(self.year)}, {repr(self.month)}, {repr(self.day)})'"
   ]
  },
  {
   "cell_type": "code",
   "execution_count": 33,
   "metadata": {},
   "outputs": [
    {
     "name": "stdout",
     "output_type": "stream",
     "text": [
      "date\n",
      "Date(2019, 5, 22)\n",
      "date2\n",
      "Date(2018, 4, 21)\n"
     ]
    }
   ],
   "source": [
    "date = Date(2019, 5, 22)\n",
    "date2 = Date(2018, 4, 21)\n",
    "\n",
    "print('date')\n",
    "print(repr(date))\n",
    "\n",
    "print('date2')\n",
    "print(repr(date2))"
   ]
  },
  {
   "cell_type": "code",
   "execution_count": 10,
   "metadata": {},
   "outputs": [
    {
     "data": {
      "text/plain": [
       "Date(2019, 5, 22)"
      ]
     },
     "execution_count": 10,
     "metadata": {},
     "output_type": "execute_result"
    }
   ],
   "source": [
    "Date(2019, 5, 22)"
   ]
  },
  {
   "cell_type": "code",
   "execution_count": 12,
   "metadata": {},
   "outputs": [
    {
     "data": {
      "text/plain": [
       "Date(2019, 5, 22)"
      ]
     },
     "execution_count": 12,
     "metadata": {},
     "output_type": "execute_result"
    }
   ],
   "source": [
    "Date(2019, 5, 22)"
   ]
  },
  {
   "cell_type": "code",
   "execution_count": 42,
   "metadata": {},
   "outputs": [],
   "source": [
    "# 4\n",
    "class Date:\n",
    "    DAY_OF_MONTH = ((31, 28, 31, 30, 31, 30, 31, 31, 30, 31, 30, 31), # \n",
    "                    (31, 29, 31, 30, 31, 30, 31, 31, 30, 31, 30, 31)) #\n",
    "    def __init__(self, year, month, day):\n",
    "        if not isinstance(year, int):\n",
    "            raise TypeError('year must be int')\n",
    "        if not isinstance(month, int):\n",
    "            raise TypeError('month must be int')\n",
    "        if not isinstance(day, int):\n",
    "            raise TypeError('day must be int')\n",
    "            \n",
    "        if not 0 < month <= 12:\n",
    "            raise ValueError('month must be 0 < month <= 12')\n",
    "        \n",
    "        \n",
    "        if not 0 < day <= self.get_max_day(year, month):\n",
    "            raise ValueError('invalid day for this month and year')\n",
    "            \n",
    "        self.year  = year\n",
    "        self.month = month\n",
    "        self.day   = day\n",
    "        \n",
    "    def __str__(self):\n",
    "        return f'{self.day}.{self.month}.{self.year}'\n",
    "    \n",
    "    def __repr__(self):\n",
    "        return f'Date({self.year}, {self.month!r}, {self.day!r})'\n",
    "    \n",
    "    @staticmethod\n",
    "    def is_leap_year(year):\n",
    "        return False # \n",
    "    \n",
    "    @classmethod\n",
    "    def get_max_day(cls, year, month):\n",
    "        leap_year = 1 if cls.is_leap_year(year) else 0\n",
    "        return cls.DAY_OF_MONTH[leap_year][month-1]"
   ]
  },
  {
   "cell_type": "code",
   "execution_count": 39,
   "metadata": {},
   "outputs": [
    {
     "data": {
      "text/plain": [
       "False"
      ]
     },
     "execution_count": 39,
     "metadata": {},
     "output_type": "execute_result"
    }
   ],
   "source": [
    "Date.is_leap_year(2015)"
   ]
  },
  {
   "cell_type": "code",
   "execution_count": 40,
   "metadata": {},
   "outputs": [
    {
     "data": {
      "text/plain": [
       "28"
      ]
     },
     "execution_count": 40,
     "metadata": {},
     "output_type": "execute_result"
    }
   ],
   "source": [
    "Date.get_max_day(2019, 2)"
   ]
  },
  {
   "cell_type": "code",
   "execution_count": 55,
   "metadata": {},
   "outputs": [],
   "source": [
    "# 5\n",
    "class Date:\n",
    "    DAY_OF_MONTH = ((31, 28, 31, 30, 31, 30, 31, 31, 30, 31, 30, 31), # \n",
    "                    (31, 29, 31, 30, 31, 30, 31, 31, 30, 31, 30, 31)) #\n",
    "    def __init__(self, year, month, day):\n",
    "        \n",
    "        self.is_valid_date(year, month, day)            \n",
    "        self.year  = year\n",
    "        self.month = month\n",
    "        self.day   = day\n",
    "        \n",
    "    def __str__(self):\n",
    "        return self.date\n",
    "    \n",
    "    def __repr__(self):\n",
    "        return f'Date({self.year}, {self.month!r}, {self.day!r})'\n",
    "    \n",
    "    @staticmethod\n",
    "    def is_leap_year(year):\n",
    "        return False # \n",
    "    \n",
    "    @classmethod\n",
    "    def get_max_day(cls, year, month):\n",
    "        leap_year = 1 if cls.is_leap_year(year) else 0\n",
    "        return cls.DAY_OF_MONTH[leap_year][month-1]\n",
    "    \n",
    "    @property\n",
    "    def date(self):\n",
    "        return f'{self.day}.{self.month}.{self.year}'\n",
    "    \n",
    "    @classmethod\n",
    "    def is_valid_date(cls, year, month, day):\n",
    "        if not isinstance(year, int):\n",
    "            raise TypeError('year must be int')\n",
    "        if not isinstance(month, int):\n",
    "            raise TypeError('month must be int')\n",
    "        if not isinstance(day, int):\n",
    "            raise TypeError('day must be int')\n",
    "            \n",
    "        if not 0 < month <= 12:\n",
    "            raise ValueError('month must be 0 < month <= 12')\n",
    "        \n",
    "        if not 0 < day <= cls.get_max_day(year, month):\n",
    "            raise ValueError('invalid day for this month and year')\n",
    "    \n",
    "    @date.setter\n",
    "    def date(self, value):\n",
    "        if not isinstance(value, str):\n",
    "            raise TypeError('Date must be str')\n",
    "        value = value.split('.')\n",
    "        if len(value) != 3:\n",
    "            raise ValueError('Invalid date format')\n",
    "            \n",
    "        try:\n",
    "            day   = int(value[0])\n",
    "            month = int(value[1])\n",
    "            year  = int(value[2])\n",
    "            self.is_valid_date(year, month, day)\n",
    "        except:\n",
    "            raise ValueError('Invalid date format')\n",
    "        \n",
    "        self.day   = day\n",
    "        self.month = month\n",
    "        self.year  = year"
   ]
  },
  {
   "cell_type": "code",
   "execution_count": 57,
   "metadata": {},
   "outputs": [
    {
     "name": "stdout",
     "output_type": "stream",
     "text": [
      "22.5.2019\n",
      "25.2.2019\n"
     ]
    }
   ],
   "source": [
    "date = Date(2019, 5, 22)\n",
    "print(date.date)\n",
    "\n",
    "date.date = '25.2.2019'\n",
    "\n",
    "print(date.date)"
   ]
  },
  {
   "cell_type": "code",
   "execution_count": 33,
   "metadata": {},
   "outputs": [],
   "source": [
    "# 6\n",
    "class Date:\n",
    "    DAY_OF_MONTH = ((31, 28, 31, 30, 31, 30, 31, 31, 30, 31, 30, 31), # \n",
    "                    (31, 29, 31, 30, 31, 30, 31, 31, 30, 31, 30, 31)) #\n",
    "    def __init__(self, year, month, day):\n",
    "        \n",
    "        self.is_valid_date(year, month, day)            \n",
    "        self.__year  = year\n",
    "        self.__month = month\n",
    "        self.__day   = day\n",
    "        \n",
    "    def __str__(self):\n",
    "        return self.date\n",
    "    \n",
    "    def __repr__(self):\n",
    "        return f'Date({self.__year!r}, {self.__month!r}, {self.__day!r})'\n",
    "    \n",
    "    @staticmethod\n",
    "    def is_leap_year(year):\n",
    "        return False # \n",
    "    \n",
    "    @classmethod\n",
    "    def get_max_day(cls, year, month):\n",
    "        leap_year = 1 if cls.is_leap_year(year) else 0\n",
    "        return cls.DAY_OF_MONTH[leap_year][month-1]\n",
    "    \n",
    "    @property\n",
    "    def date(self):\n",
    "        return f'{self.__day}.{self.__month}.{self.__year}'\n",
    "    \n",
    "    @classmethod\n",
    "    def is_valid_date(cls, year, month, day):\n",
    "        if not isinstance(year, int):\n",
    "            raise TypeError('year must be int')\n",
    "        if not isinstance(month, int):\n",
    "            raise TypeError('month must be int')\n",
    "        if not isinstance(day, int):\n",
    "            raise TypeError('day must be int')\n",
    "            \n",
    "        if not 0 < month <= 12:\n",
    "            raise ValueError('month must be 0 < month <= 12')\n",
    "        \n",
    "        if not 0 < day <= cls.get_max_day(year, month):\n",
    "            raise ValueError('invalid day for this month and year')\n",
    "    \n",
    "    @date.setter\n",
    "    def date(self, value):\n",
    "        if not isinstance(value, str):\n",
    "            raise TypeError('Date must be str')\n",
    "        value = value.split('.')\n",
    "        if len(value) != 3:\n",
    "            raise ValueError('Invalid date format')\n",
    "            \n",
    "        try:\n",
    "            day   = int(value[0])\n",
    "            month = int(value[1])\n",
    "            year  = int(value[2])\n",
    "            self.is_valid_date(year, month, day)\n",
    "        except:\n",
    "            raise ValueError('Invalid date format')\n",
    "        \n",
    "        self.__day   = day\n",
    "        self.__month = month\n",
    "        self.__year  = year\n",
    "        \n",
    "    @property\n",
    "    def day(self):\n",
    "        return self.__day\n",
    "    \n",
    "#     @day.setter\n",
    "#     def day(self, value):\n",
    "#         value = int(value)\n",
    "#         self.is_valid_date(self.__year, self.__month, value)\n",
    "#         self.__day = value\n",
    "        \n",
    "    @property\n",
    "    def month(self):\n",
    "        return self.__month\n",
    "    \n",
    "#     @month.setter\n",
    "#     def month(self, value):\n",
    "#         value = int(value)\n",
    "#         self.is_valid_date(self.__year, value, self.__day)\n",
    "#         self.__month = value\n",
    "        \n",
    "    @property\n",
    "    def year(self):\n",
    "        return self.__year\n",
    "    \n",
    "#     @year.setter\n",
    "#     def year(self, value):\n",
    "#         value = int(value)\n",
    "#         self.is_valid_date(value, self.__month, self.__day)\n",
    "#         self.__year = value\n",
    "\n",
    "    def add_day(self, day):\n",
    "        pass\n",
    "    \n",
    "    def add_month(self, month):\n",
    "        pass\n",
    "        \n",
    "    def add_year(self, year):\n",
    "        pass\n",
    "    \n",
    "    @staticmethod\n",
    "    def date2_date1(date2, date1):\n",
    "        pass\n",
    "        #date2-date1"
   ]
  },
  {
   "cell_type": "code",
   "execution_count": 34,
   "metadata": {},
   "outputs": [
    {
     "data": {
      "text/plain": [
       "Date(2019, 5, 22)"
      ]
     },
     "execution_count": 34,
     "metadata": {},
     "output_type": "execute_result"
    }
   ],
   "source": [
    "date = Date(2019, 5, 22)\n",
    "date"
   ]
  },
  {
   "cell_type": "code",
   "execution_count": 5,
   "metadata": {},
   "outputs": [],
   "source": [
    "date.__day  =50"
   ]
  },
  {
   "cell_type": "code",
   "execution_count": 9,
   "metadata": {},
   "outputs": [],
   "source": [
    "date._Date__year = 2020"
   ]
  },
  {
   "cell_type": "code",
   "execution_count": 10,
   "metadata": {},
   "outputs": [
    {
     "data": {
      "text/plain": [
       "{'_Date__year': 2020, '_Date__month': 5, '_Date__day': 22, '__day': 50}"
      ]
     },
     "execution_count": 10,
     "metadata": {},
     "output_type": "execute_result"
    }
   ],
   "source": [
    "date.__dict__"
   ]
  },
  {
   "cell_type": "code",
   "execution_count": 35,
   "metadata": {},
   "outputs": [
    {
     "data": {
      "text/plain": [
       "22"
      ]
     },
     "execution_count": 35,
     "metadata": {},
     "output_type": "execute_result"
    }
   ],
   "source": [
    "date.day"
   ]
  },
  {
   "cell_type": "code",
   "execution_count": 17,
   "metadata": {},
   "outputs": [
    {
     "data": {
      "text/plain": [
       "5"
      ]
     },
     "execution_count": 17,
     "metadata": {},
     "output_type": "execute_result"
    }
   ],
   "source": [
    "date.month"
   ]
  },
  {
   "cell_type": "code",
   "execution_count": 18,
   "metadata": {},
   "outputs": [
    {
     "data": {
      "text/plain": [
       "2019"
      ]
     },
     "execution_count": 18,
     "metadata": {},
     "output_type": "execute_result"
    }
   ],
   "source": [
    "date.year"
   ]
  },
  {
   "cell_type": "code",
   "execution_count": 19,
   "metadata": {},
   "outputs": [
    {
     "ename": "AttributeError",
     "evalue": "can't set attribute",
     "output_type": "error",
     "traceback": [
      "\u001b[1;31m---------------------------------------------------------------------------\u001b[0m",
      "\u001b[1;31mAttributeError\u001b[0m                            Traceback (most recent call last)",
      "\u001b[1;32m<ipython-input-19-cf02cc801bd3>\u001b[0m in \u001b[0;36m<module>\u001b[1;34m\u001b[0m\n\u001b[1;32m----> 1\u001b[1;33m \u001b[0mdate\u001b[0m\u001b[1;33m.\u001b[0m\u001b[0mday\u001b[0m \u001b[1;33m=\u001b[0m \u001b[1;36m56\u001b[0m\u001b[1;33m\u001b[0m\u001b[1;33m\u001b[0m\u001b[0m\n\u001b[0m",
      "\u001b[1;31mAttributeError\u001b[0m: can't set attribute"
     ]
    }
   ],
   "source": [
    "date.day = 56"
   ]
  },
  {
   "cell_type": "code",
   "execution_count": 20,
   "metadata": {},
   "outputs": [
    {
     "ename": "AttributeError",
     "evalue": "can't set attribute",
     "output_type": "error",
     "traceback": [
      "\u001b[1;31m---------------------------------------------------------------------------\u001b[0m",
      "\u001b[1;31mAttributeError\u001b[0m                            Traceback (most recent call last)",
      "\u001b[1;32m<ipython-input-20-dc06581748cb>\u001b[0m in \u001b[0;36m<module>\u001b[1;34m\u001b[0m\n\u001b[1;32m----> 1\u001b[1;33m \u001b[0mdate\u001b[0m\u001b[1;33m.\u001b[0m\u001b[0mmonth\u001b[0m \u001b[1;33m=\u001b[0m \u001b[1;36m53244823443\u001b[0m\u001b[1;33m\u001b[0m\u001b[1;33m\u001b[0m\u001b[0m\n\u001b[0m",
      "\u001b[1;31mAttributeError\u001b[0m: can't set attribute"
     ]
    }
   ],
   "source": [
    "date.month = 53244823443"
   ]
  },
  {
   "cell_type": "code",
   "execution_count": 21,
   "metadata": {},
   "outputs": [
    {
     "ename": "AttributeError",
     "evalue": "can't set attribute",
     "output_type": "error",
     "traceback": [
      "\u001b[1;31m---------------------------------------------------------------------------\u001b[0m",
      "\u001b[1;31mAttributeError\u001b[0m                            Traceback (most recent call last)",
      "\u001b[1;32m<ipython-input-21-a94adad80212>\u001b[0m in \u001b[0;36m<module>\u001b[1;34m\u001b[0m\n\u001b[1;32m----> 1\u001b[1;33m \u001b[0mdate\u001b[0m\u001b[1;33m.\u001b[0m\u001b[0myear\u001b[0m \u001b[1;33m=\u001b[0m \u001b[1;36m2131\u001b[0m\u001b[1;33m\u001b[0m\u001b[1;33m\u001b[0m\u001b[0m\n\u001b[0m",
      "\u001b[1;31mAttributeError\u001b[0m: can't set attribute"
     ]
    }
   ],
   "source": [
    "date.year = 2131"
   ]
  },
  {
   "cell_type": "code",
   "execution_count": 22,
   "metadata": {},
   "outputs": [],
   "source": [
    "date.date = '25.11.2015'"
   ]
  },
  {
   "cell_type": "code",
   "execution_count": 24,
   "metadata": {},
   "outputs": [
    {
     "data": {
      "text/plain": [
       "Date(2015, 11, 25)"
      ]
     },
     "execution_count": 24,
     "metadata": {},
     "output_type": "execute_result"
    }
   ],
   "source": [
    "date"
   ]
  },
  {
   "cell_type": "code",
   "execution_count": 25,
   "metadata": {},
   "outputs": [],
   "source": [
    "d = Date(2015, 11, 25)"
   ]
  },
  {
   "cell_type": "code",
   "execution_count": 26,
   "metadata": {},
   "outputs": [
    {
     "data": {
      "text/plain": [
       "Date(2015, 11, 25)"
      ]
     },
     "execution_count": 26,
     "metadata": {},
     "output_type": "execute_result"
    }
   ],
   "source": [
    "d"
   ]
  },
  {
   "cell_type": "code",
   "execution_count": null,
   "metadata": {},
   "outputs": [],
   "source": [
    "# 7\n",
    "class Date:\n",
    "    '''\n",
    "    Date\n",
    "    \n",
    "    \n",
    "    Example:\n",
    "    date = Date(2019, 5, 22)\n",
    "    print(date)\n",
    "    \n",
    "    \n",
    "    \n",
    "    '''\n",
    "    DAY_OF_MONTH = ((31, 28, 31, 30, 31, 30, 31, 31, 30, 31, 30, 31), # \n",
    "                    (31, 29, 31, 30, 31, 30, 31, 31, 30, 31, 30, 31)) #\n",
    "    def __init__(self, year, month, day):\n",
    "        '''\n",
    "        year:  int otherwise TypeError\n",
    "        month: int 1 < month <= 12\n",
    "        \n",
    "        '''\n",
    "        \n",
    "        self.is_valid_date(year, month, day)            \n",
    "        self.__year  = year\n",
    "        self.__month = month\n",
    "        self.__day   = day\n",
    "        \n",
    "    def __str__(self):\n",
    "        return self.date\n",
    "    \n",
    "    def __repr__(self):\n",
    "        return f'Date({self.__year!r}, {self.__month!r}, {self.__day!r})'\n",
    "    \n",
    "    @staticmethod\n",
    "    def is_leap_year(year):\n",
    "        return False # \n",
    "    \n",
    "    @classmethod\n",
    "    def get_max_day(cls, year, month):\n",
    "        leap_year = 1 if cls.is_leap_year(year) else 0\n",
    "        return cls.DAY_OF_MONTH[leap_year][month-1]\n",
    "    \n",
    "    @property\n",
    "    def date(self):\n",
    "        return f'{self.__day}.{self.__month}.{self.__year}'\n",
    "    \n",
    "    @classmethod\n",
    "    def is_valid_date(cls, year, month, day):\n",
    "        if not isinstance(year, int):\n",
    "            raise TypeError('year must be int')\n",
    "        if not isinstance(month, int):\n",
    "            raise TypeError('month must be int')\n",
    "        if not isinstance(day, int):\n",
    "            raise TypeError('day must be int')\n",
    "            \n",
    "        if not 0 < month <= 12:\n",
    "            raise ValueError('month must be 0 < month <= 12')\n",
    "        \n",
    "        if not 0 < day <= cls.get_max_day(year, month):\n",
    "            raise ValueError('invalid day for this month and year')\n",
    "    \n",
    "    @date.setter\n",
    "    def date(self, value):\n",
    "        if not isinstance(value, str):\n",
    "            raise TypeError('Date must be str')\n",
    "        value = value.split('.')\n",
    "        if len(value) != 3:\n",
    "            raise ValueError('Invalid date format')\n",
    "            \n",
    "        try:\n",
    "            day   = int(value[0])\n",
    "            month = int(value[1])\n",
    "            year  = int(value[2])\n",
    "            self.is_valid_date(year, month, day)\n",
    "        except:\n",
    "            raise ValueError('Invalid date format')\n",
    "        \n",
    "        self.__day   = day\n",
    "        self.__month = month\n",
    "        self.__year  = year\n",
    "        \n",
    "    @property\n",
    "    def day(self):\n",
    "        return self.__day\n",
    "    \n",
    "#     @day.setter\n",
    "#     def day(self, value):\n",
    "#         value = int(value)\n",
    "#         self.is_valid_date(self.__year, self.__month, value)\n",
    "#         self.__day = value\n",
    "        \n",
    "    @property\n",
    "    def month(self):\n",
    "        return self.__month\n",
    "    \n",
    "#     @month.setter\n",
    "#     def month(self, value):\n",
    "#         value = int(value)\n",
    "#         self.is_valid_date(self.__year, value, self.__day)\n",
    "#         self.__month = value\n",
    "        \n",
    "    @property\n",
    "    def year(self):\n",
    "        return self.__year\n",
    "    \n",
    "#     @year.setter\n",
    "#     def year(self, value):\n",
    "#         value = int(value)\n",
    "#         self.is_valid_date(value, self.__month, self.__day)\n",
    "#         self.__year = value\n",
    "\n",
    "    def add_day(self, day):\n",
    "        pass\n",
    "    \n",
    "    def add_month(self, month):\n",
    "        pass\n",
    "        \n",
    "    def add_year(self, year):\n",
    "        pass\n",
    "    \n",
    "    @staticmethod\n",
    "    def date2_date1(date2, date1):\n",
    "        pass\n",
    "        #date2-date1"
   ]
  }
 ],
 "metadata": {
  "kernelspec": {
   "display_name": "Python 3",
   "language": "python",
   "name": "python3"
  },
  "language_info": {
   "codemirror_mode": {
    "name": "ipython",
    "version": 3
   },
   "file_extension": ".py",
   "mimetype": "text/x-python",
   "name": "python",
   "nbconvert_exporter": "python",
   "pygments_lexer": "ipython3",
   "version": "3.6.7"
  }
 },
 "nbformat": 4,
 "nbformat_minor": 2
}
